{
  "nbformat": 4,
  "nbformat_minor": 0,
  "metadata": {
    "colab": {
      "provenance": [],
      "authorship_tag": "ABX9TyMW8ZtxIah4RGEcMey5LWVC",
      "include_colab_link": true
    },
    "kernelspec": {
      "name": "python3",
      "display_name": "Python 3"
    },
    "language_info": {
      "name": "python"
    }
  },
  "cells": [
    {
      "cell_type": "markdown",
      "metadata": {
        "id": "view-in-github",
        "colab_type": "text"
      },
      "source": [
        "<a href=\"https://colab.research.google.com/github/leoptr22/Auto-CursoPython/blob/master/Modulo2CursoPython.ipynb\" target=\"_parent\"><img src=\"https://colab.research.google.com/assets/colab-badge.svg\" alt=\"Open In Colab\"/></a>"
      ]
    },
    {
      "cell_type": "code",
      "execution_count": null,
      "metadata": {
        "id": "MGQUpYP-2gvz"
      },
      "outputs": [],
      "source": [
        "\"\"\"Generadores y expresiones generadoras. Iteradores \"\"\"\n",
        "\n",
        "\"\"\"\n",
        "Parte 1: Función Generadora numeros_pares\n",
        "\n",
        "Crea una función generadora llamada numeros_pares que acepte un argumento limite.\n",
        "\n",
        "Esta función debe yield (ceder) solo los números pares desde 0 hasta (e incluyendo) el limite que se le pase.\n",
        "\n",
        "Dentro de la función, usa un bucle while o for para iterar y verificar si un número es par antes de cederlo.\n",
        "\n",
        "\n",
        "\"\"\"\n",
        "\n",
        "def numeros_pares (limite):\n",
        "  n = 0\n",
        "  while n <= limite:\n",
        "    if n % 2 == 0:\n",
        "      yield n\n",
        "    n += 1\n",
        "\n",
        "pares = numeros_pares(4)\n",
        "try:\n",
        "    print (next(pares))\n",
        "    print (next(pares))\n",
        "    print (next(pares))\n",
        "    print (next(pares))\n",
        "    \"\"\"aca lanza un error: StopIteration pero si implemntamos try manejamos los errores \"\"\"\n",
        "    print (next(pares))\n",
        "    print (next(pares))\n",
        "    print (next(pares))\n",
        "    print (next(pares))\n",
        "    print (next(pares))\n",
        "    print (next(pares))\n",
        "    print (next(pares))\n",
        "    print (next(pares))\n",
        "except StopIteration:\n",
        "    print(\"No hay más números pares.\")\n",
        "\n",
        "\"\"\"\n",
        "Parte 2: Expresión Generadora cuadrados_impares\n",
        "\n",
        "Crea una expresión generadora llamada cuadrados_impares que produzca el cuadrado de los números impares desde 1 hasta 100 (ambos inclusive).\n",
        "\n",
        "No uses una función con yield. Usa la sintaxis de expresión generadora ( ... for ... in ... if ... ).\n",
        "\n",
        "\"\"\"\n",
        "\n",
        "def cuadrados_impares ():\n",
        "  n = 0\n",
        "  while n <= 100:\n",
        "    if n % 2 != 0:\n",
        "      yield n**2\n",
        "    n += 1\n",
        "\n",
        "impares = cuadrados_impares()\n",
        "print (next(impares))\n",
        "print (next(impares))\n",
        "print (next(impares))\n",
        "print (next(impares))\n",
        "print (next(impares))\n",
        "print (next(impares))\n",
        "print (next(impares))\n",
        "print (next(impares))\n",
        "print (next(impares))\n",
        "print (next(impares))\n",
        "\n",
        "\n"
      ]
    },
    {
      "cell_type": "code",
      "source": [
        "\"\"\" [Comprehensions] Comprensión de listas, diccionarios y conjuntos anidados \"\"\"\n",
        "\n",
        "\"\"\"\n",
        "Parte 1: Comprensión de Lista - Filtrado y Transformación\n",
        "\n",
        "Dada la siguiente lista de números: numeros = [1, 7, 12, 4, 9, 20, 3, 15, 6, 10]\n",
        "\n",
        "Crea una nueva lista llamada numeros_grandes_cuadrados que contenga solo los cuadrados de los números que son mayores o iguales a 10.\n",
        "\"\"\"\n",
        "numeros = [1, 7, 12, 4, 9, 20, 3, 15, 6, 10]\n",
        "\n",
        "\n",
        "numeros_grandes_cuadrados = [n**2 for n in numeros if n >= 10  ]\n",
        "print(numeros_grandes_cuadrados)\n",
        "\n",
        "\n",
        "\"\"\"\n",
        "Parte 2: Comprensión de Diccionario - Mapeo Condicional\n",
        "\n",
        "Dada la siguiente lista de productos con sus precios: productos = [\"manzana\", 1.5, \"banana\", 0.75, \"naranja\", 1.2, \"pera\", 1.0, \"uva\", 2.5]\n",
        "Crea un diccionario llamado precios_actualizados donde:\n",
        "\n",
        "Las claves sean los nombres de los productos (strings).\n",
        "\n",
        "Los valores sean los precios.\n",
        "\n",
        "Solo incluye los productos cuyo precio original sea mayor a 1.0.\n",
        "\n",
        "Para estos productos, aumenta su precio un 10%.\n",
        "\"\"\"\n",
        "\n",
        "productos = [\"manzana\", 1.5, \"banana\", 0.75, \"naranja\", 1.2, \"pera\", 1.0, \"uva\", 2.5]\n",
        "\n",
        "precios_actualizados = {productos[i]: productos [i+1] * 1.1 for i in range(0, len(productos), 2) if productos[i+1] > 1.0}\n",
        "print(precios_actualizados)\n",
        "\n",
        "\"\"\"\n",
        "Parte 3: Comprensión de Conjunto - Extracción de Valores Únicos\n",
        "\n",
        "Dada la siguiente cadena de texto: texto = \"banana, manzana, banana, pera, manzana, naranja, manzana\"\n",
        "\n",
        "Crea un conjunto llamado frutas_unicas que contenga solo los nombres únicos de las frutas.\n",
        "\n",
        "Pista: Necesitarás dividir la cadena por la coma y el espacio.\n",
        "\"\"\"\n",
        "texto = \"banana, manzana, banana, pera, manzana, naranja, manzana\"\n",
        "\n",
        "frutas_unicas = set(texto.split(\", \"))\n",
        "print(frutas_unicas)\n"
      ],
      "metadata": {
        "id": "XJKsbByEEI61",
        "colab": {
          "base_uri": "https://localhost:8080/"
        },
        "outputId": "72dca732-086c-44d3-9483-fec5182ff077"
      },
      "execution_count": null,
      "outputs": [
        {
          "output_type": "stream",
          "name": "stdout",
          "text": [
            "[144, 400, 225, 100]\n"
          ]
        }
      ]
    },
    {
      "cell_type": "code",
      "source": [
        "\"\"\" Manejo de Fechas y Horas en Python (datetime module) ⏰📅 \"\"\"\n",
        "\n",
        "\n",
        "from datetime import date, time, datetime, timedelta\n",
        "\n",
        "\n",
        "# Obtener la fecha y hora actual del sistema\n",
        "ahora = datetime.now()\n",
        "print(f\"Ahora mismo: {ahora}\")\n",
        "\n",
        "# Acceder a componentes individuales (combina date y time)\n",
        "print(f\"Día: {ahora.day}, Hora: {ahora.hour}, Minuto: {ahora.minute}\")\n",
        "\n",
        "# Obtener solo la parte de la fecha o la hora\n",
        "print(f\"Solo la fecha: {ahora.date()}\")\n",
        "print(f\"Solo la hora: {ahora.time()}\")\n",
        "\n",
        "\n",
        "\n",
        "\n",
        "\n",
        "# Formatear datetime a cadena (strftime)\n",
        "fecha_formateada = ahora.strftime(\"%Y-%m-%d %H:%M:%S\")\n",
        "print(f\"Formato YYYY-MM-DD HH:MM:SS: {fecha_formateada}\")\n",
        "\n",
        "fecha_leible = ahora.strftime(\"Hoy es %A, %d de %B de %Y a las %H:%M horas.\")\n",
        "print(f\"Formato legible: {fecha_leible}\")\n",
        "\n",
        "# Convertir cadena a datetime (strptime)\n",
        "cadena_fecha = \"2023-10-26 15:30:00\"\n",
        "formato = \"%Y-%m-%d %H:%M:%S\"\n",
        "fecha_desde_cadena = datetime.strptime(cadena_fecha, formato)\n",
        "print(f\"Fecha desde cadena: {fecha_desde_cadena}\")\n",
        "\n",
        "# Importante: El formato en strptime DEBE coincidir exactamente con la cadena.\n",
        "cadena_fecha_mal = \"26-10-2023\"\n",
        "# fecha_erronea = datetime.strptime(cadena_fecha_mal, \"%Y-%m-%d\") # Esto daría un ValueError"
      ],
      "metadata": {
        "colab": {
          "base_uri": "https://localhost:8080/"
        },
        "id": "m7c1YlZvUVI1",
        "outputId": "fa59ffc8-75c0-476d-f43b-cd24694c6b2a"
      },
      "execution_count": null,
      "outputs": [
        {
          "output_type": "stream",
          "name": "stdout",
          "text": [
            "Ahora mismo: 2025-07-21 23:33:39.457092\n",
            "Día: 21, Hora: 23, Minuto: 33\n",
            "Solo la fecha: 2025-07-21\n",
            "Solo la hora: 23:33:39.457092\n",
            "Formato YYYY-MM-DD HH:MM:SS: 2025-07-21 23:33:39\n",
            "Formato legible: Hoy es Monday, 21 de July de 2025 a las 23:33 horas.\n",
            "Fecha desde cadena: 2023-10-26 15:30:00\n"
          ]
        }
      ]
    },
    {
      "cell_type": "code",
      "source": [
        "\"\"\"REGEX - EXPRESIONES REGULARES\"\"\"\n",
        "\n",
        "import re\n",
        "\n",
        "\n",
        "texto = \"Mi teléfono es 123-456-47890\"\n",
        "patron = r'\\d{3}-\\d{3}-\\d{5}' # r'' para \"raw string\", evita problemas con backslashes\n",
        "\n",
        "coincidencia = re.search(patron, texto)\n",
        "\n",
        "if coincidencia:\n",
        "    print(f\"Patrón encontrado: {coincidencia.group(0)}\") # group(0) devuelve la coincidencia completa\n",
        "    print(f\"Inicio en índice: {coincidencia.start()}\")\n",
        "    print(f\"Fin en índice: {coincidencia.end()}\")\n",
        "else:\n",
        "    print(\"Patrón no encontrado.\")"
      ],
      "metadata": {
        "colab": {
          "base_uri": "https://localhost:8080/"
        },
        "id": "br7VyLMqceD7",
        "outputId": "9c0d16b1-940f-4233-ca7a-3fc55c58ff07"
      },
      "execution_count": 7,
      "outputs": [
        {
          "output_type": "stream",
          "name": "stdout",
          "text": [
            "Patrón encontrado: 123-456-47890\n",
            "Inicio en índice: 15\n",
            "Fin en índice: 28\n"
          ]
        }
      ]
    }
  ]
}